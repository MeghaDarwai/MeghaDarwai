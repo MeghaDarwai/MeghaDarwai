{
 "cells": [
  {
   "cell_type": "code",
   "execution_count": 1,
   "id": "1802c27c",
   "metadata": {
    "_cell_guid": "b1076dfc-b9ad-4769-8c92-a6c4dae69d19",
    "_uuid": "8f2839f25d086af736a60e9eeb907d3b93b6e0e5",
    "execution": {
     "iopub.execute_input": "2024-06-09T17:02:25.011375Z",
     "iopub.status.busy": "2024-06-09T17:02:25.010939Z",
     "iopub.status.idle": "2024-06-09T17:02:25.996452Z",
     "shell.execute_reply": "2024-06-09T17:02:25.995225Z"
    },
    "papermill": {
     "duration": 0.996619,
     "end_time": "2024-06-09T17:02:25.999119",
     "exception": false,
     "start_time": "2024-06-09T17:02:25.002500",
     "status": "completed"
    },
    "tags": []
   },
   "outputs": [
    {
     "name": "stdout",
     "output_type": "stream",
     "text": [
      "/kaggle/input/fitbit/mturkfitbit_export_3.12.16-4.11.16/Fitabase Data 3.12.16-4.11.16/minuteCaloriesNarrow_merged.csv\n",
      "/kaggle/input/fitbit/mturkfitbit_export_3.12.16-4.11.16/Fitabase Data 3.12.16-4.11.16/weightLogInfo_merged.csv\n",
      "/kaggle/input/fitbit/mturkfitbit_export_3.12.16-4.11.16/Fitabase Data 3.12.16-4.11.16/minuteMETsNarrow_merged.csv\n",
      "/kaggle/input/fitbit/mturkfitbit_export_3.12.16-4.11.16/Fitabase Data 3.12.16-4.11.16/hourlyCalories_merged.csv\n",
      "/kaggle/input/fitbit/mturkfitbit_export_3.12.16-4.11.16/Fitabase Data 3.12.16-4.11.16/heartrate_seconds_merged.csv\n",
      "/kaggle/input/fitbit/mturkfitbit_export_3.12.16-4.11.16/Fitabase Data 3.12.16-4.11.16/minuteSleep_merged.csv\n",
      "/kaggle/input/fitbit/mturkfitbit_export_3.12.16-4.11.16/Fitabase Data 3.12.16-4.11.16/hourlyIntensities_merged.csv\n",
      "/kaggle/input/fitbit/mturkfitbit_export_3.12.16-4.11.16/Fitabase Data 3.12.16-4.11.16/hourlySteps_merged.csv\n",
      "/kaggle/input/fitbit/mturkfitbit_export_3.12.16-4.11.16/Fitabase Data 3.12.16-4.11.16/minuteStepsNarrow_merged.csv\n",
      "/kaggle/input/fitbit/mturkfitbit_export_3.12.16-4.11.16/Fitabase Data 3.12.16-4.11.16/minuteIntensitiesNarrow_merged.csv\n",
      "/kaggle/input/fitbit/mturkfitbit_export_3.12.16-4.11.16/Fitabase Data 3.12.16-4.11.16/dailyActivity_merged.csv\n",
      "/kaggle/input/fitbit/mturkfitbit_export_4.12.16-5.12.16/Fitabase Data 4.12.16-5.12.16/minuteCaloriesNarrow_merged.csv\n",
      "/kaggle/input/fitbit/mturkfitbit_export_4.12.16-5.12.16/Fitabase Data 4.12.16-5.12.16/weightLogInfo_merged.csv\n",
      "/kaggle/input/fitbit/mturkfitbit_export_4.12.16-5.12.16/Fitabase Data 4.12.16-5.12.16/sleepDay_merged.csv\n",
      "/kaggle/input/fitbit/mturkfitbit_export_4.12.16-5.12.16/Fitabase Data 4.12.16-5.12.16/dailyIntensities_merged.csv\n",
      "/kaggle/input/fitbit/mturkfitbit_export_4.12.16-5.12.16/Fitabase Data 4.12.16-5.12.16/minuteIntensitiesWide_merged.csv\n",
      "/kaggle/input/fitbit/mturkfitbit_export_4.12.16-5.12.16/Fitabase Data 4.12.16-5.12.16/minuteMETsNarrow_merged.csv\n",
      "/kaggle/input/fitbit/mturkfitbit_export_4.12.16-5.12.16/Fitabase Data 4.12.16-5.12.16/dailyCalories_merged.csv\n",
      "/kaggle/input/fitbit/mturkfitbit_export_4.12.16-5.12.16/Fitabase Data 4.12.16-5.12.16/hourlyCalories_merged.csv\n",
      "/kaggle/input/fitbit/mturkfitbit_export_4.12.16-5.12.16/Fitabase Data 4.12.16-5.12.16/heartrate_seconds_merged.csv\n",
      "/kaggle/input/fitbit/mturkfitbit_export_4.12.16-5.12.16/Fitabase Data 4.12.16-5.12.16/minuteSleep_merged.csv\n",
      "/kaggle/input/fitbit/mturkfitbit_export_4.12.16-5.12.16/Fitabase Data 4.12.16-5.12.16/hourlyIntensities_merged.csv\n",
      "/kaggle/input/fitbit/mturkfitbit_export_4.12.16-5.12.16/Fitabase Data 4.12.16-5.12.16/hourlySteps_merged.csv\n",
      "/kaggle/input/fitbit/mturkfitbit_export_4.12.16-5.12.16/Fitabase Data 4.12.16-5.12.16/minuteStepsNarrow_merged.csv\n",
      "/kaggle/input/fitbit/mturkfitbit_export_4.12.16-5.12.16/Fitabase Data 4.12.16-5.12.16/dailySteps_merged.csv\n",
      "/kaggle/input/fitbit/mturkfitbit_export_4.12.16-5.12.16/Fitabase Data 4.12.16-5.12.16/minuteStepsWide_merged.csv\n",
      "/kaggle/input/fitbit/mturkfitbit_export_4.12.16-5.12.16/Fitabase Data 4.12.16-5.12.16/minuteIntensitiesNarrow_merged.csv\n",
      "/kaggle/input/fitbit/mturkfitbit_export_4.12.16-5.12.16/Fitabase Data 4.12.16-5.12.16/minuteCaloriesWide_merged.csv\n",
      "/kaggle/input/fitbit/mturkfitbit_export_4.12.16-5.12.16/Fitabase Data 4.12.16-5.12.16/dailyActivity_merged.csv\n"
     ]
    }
   ],
   "source": [
    "# This Python 3 environment comes with many helpful analytics libraries installed\n",
    "# It is defined by the kaggle/python Docker image: https://github.com/kaggle/docker-python\n",
    "# For example, here's several helpful packages to load\n",
    "\n",
    "import numpy as np # linear algebra\n",
    "import pandas as pd # data processing, CSV file I/O (e.g. pd.read_csv)\n",
    "\n",
    "# Input data files are available in the read-only \"../input/\" directory\n",
    "# For example, running this (by clicking run or pressing Shift+Enter) will list all files under the input directory\n",
    "\n",
    "import os\n",
    "for dirname, _, filenames in os.walk('/kaggle/input'):\n",
    "    for filename in filenames:\n",
    "        print(os.path.join(dirname, filename))\n",
    "\n",
    "# You can write up to 20GB to the current directory (/kaggle/working/) that gets preserved as output when you create a version using \"Save & Run All\" \n",
    "# You can also write temporary files to /kaggle/temp/, but they won't be saved outside of the current session"
   ]
  },
  {
   "cell_type": "markdown",
   "id": "1c432abe",
   "metadata": {
    "papermill": {
     "duration": 0.005979,
     "end_time": "2024-06-09T17:02:26.011477",
     "exception": false,
     "start_time": "2024-06-09T17:02:26.005498",
     "status": "completed"
    },
    "tags": []
   },
   "source": [
    "*We are using Python to prepare and process the data.*\n",
    "\n",
    "**Preparing the Environment**\n",
    "The numPy, pandas, matplotlib, datetime packages are installed and aliased for easy reading."
   ]
  },
  {
   "cell_type": "code",
   "execution_count": 2,
   "id": "8568f706",
   "metadata": {
    "execution": {
     "iopub.execute_input": "2024-06-09T17:02:26.026394Z",
     "iopub.status.busy": "2024-06-09T17:02:26.024897Z",
     "iopub.status.idle": "2024-06-09T17:02:27.403067Z",
     "shell.execute_reply": "2024-06-09T17:02:27.401820Z"
    },
    "papermill": {
     "duration": 1.38812,
     "end_time": "2024-06-09T17:02:27.405667",
     "exception": false,
     "start_time": "2024-06-09T17:02:26.017547",
     "status": "completed"
    },
    "tags": []
   },
   "outputs": [],
   "source": [
    "# import packages and alias\n",
    "import numpy as np # data arrays\n",
    "import pandas as pd # data structure and data analysis\n",
    "import datetime as dt # for datetime values\n",
    "import seaborn as sns\n",
    "\n",
    "import warnings\n",
    "warnings.filterwarnings('ignore')"
   ]
  },
  {
   "cell_type": "markdown",
   "id": "948c27da",
   "metadata": {
    "papermill": {
     "duration": 0.005757,
     "end_time": "2024-06-09T17:02:27.417887",
     "exception": false,
     "start_time": "2024-06-09T17:02:27.412130",
     "status": "completed"
    },
    "tags": []
   },
   "source": [
    "**Importing data set**\n",
    "\n",
    "Reading in the selected file."
   ]
  },
  {
   "cell_type": "code",
   "execution_count": 3,
   "id": "11ea2550",
   "metadata": {
    "execution": {
     "iopub.execute_input": "2024-06-09T17:02:27.431726Z",
     "iopub.status.busy": "2024-06-09T17:02:27.431347Z",
     "iopub.status.idle": "2024-06-09T17:02:27.450783Z",
     "shell.execute_reply": "2024-06-09T17:02:27.449569Z"
    },
    "papermill": {
     "duration": 0.029516,
     "end_time": "2024-06-09T17:02:27.453403",
     "exception": false,
     "start_time": "2024-06-09T17:02:27.423887",
     "status": "completed"
    },
    "tags": []
   },
   "outputs": [],
   "source": [
    "df = pd.read_csv('/kaggle/input/fitbit/mturkfitbit_export_3.12.16-4.11.16/Fitabase Data 3.12.16-4.11.16/dailyActivity_merged.csv')"
   ]
  },
  {
   "cell_type": "markdown",
   "id": "4f1c3794",
   "metadata": {
    "papermill": {
     "duration": 0.006569,
     "end_time": "2024-06-09T17:02:27.466216",
     "exception": false,
     "start_time": "2024-06-09T17:02:27.459647",
     "status": "completed"
    },
    "tags": []
   },
   "source": [
    "**Data cleaning and manipulation**\n",
    "Check for null or missing values\n",
    "\n",
    "Previewing using head function to show the first 10 rows of daily_activity to familiarise with the data"
   ]
  },
  {
   "cell_type": "code",
   "execution_count": 4,
   "id": "603b9c11",
   "metadata": {
    "execution": {
     "iopub.execute_input": "2024-06-09T17:02:27.481681Z",
     "iopub.status.busy": "2024-06-09T17:02:27.481314Z",
     "iopub.status.idle": "2024-06-09T17:02:27.516946Z",
     "shell.execute_reply": "2024-06-09T17:02:27.515732Z"
    },
    "papermill": {
     "duration": 0.046073,
     "end_time": "2024-06-09T17:02:27.519216",
     "exception": false,
     "start_time": "2024-06-09T17:02:27.473143",
     "status": "completed"
    },
    "tags": []
   },
   "outputs": [
    {
     "data": {
      "text/html": [
       "<div>\n",
       "<style scoped>\n",
       "    .dataframe tbody tr th:only-of-type {\n",
       "        vertical-align: middle;\n",
       "    }\n",
       "\n",
       "    .dataframe tbody tr th {\n",
       "        vertical-align: top;\n",
       "    }\n",
       "\n",
       "    .dataframe thead th {\n",
       "        text-align: right;\n",
       "    }\n",
       "</style>\n",
       "<table border=\"1\" class=\"dataframe\">\n",
       "  <thead>\n",
       "    <tr style=\"text-align: right;\">\n",
       "      <th></th>\n",
       "      <th>Id</th>\n",
       "      <th>ActivityDate</th>\n",
       "      <th>TotalSteps</th>\n",
       "      <th>TotalDistance</th>\n",
       "      <th>TrackerDistance</th>\n",
       "      <th>LoggedActivitiesDistance</th>\n",
       "      <th>VeryActiveDistance</th>\n",
       "      <th>ModeratelyActiveDistance</th>\n",
       "      <th>LightActiveDistance</th>\n",
       "      <th>SedentaryActiveDistance</th>\n",
       "      <th>VeryActiveMinutes</th>\n",
       "      <th>FairlyActiveMinutes</th>\n",
       "      <th>LightlyActiveMinutes</th>\n",
       "      <th>SedentaryMinutes</th>\n",
       "      <th>Calories</th>\n",
       "    </tr>\n",
       "  </thead>\n",
       "  <tbody>\n",
       "    <tr>\n",
       "      <th>0</th>\n",
       "      <td>1503960366</td>\n",
       "      <td>3/25/2016</td>\n",
       "      <td>11004</td>\n",
       "      <td>7.11</td>\n",
       "      <td>7.11</td>\n",
       "      <td>0.0</td>\n",
       "      <td>2.57</td>\n",
       "      <td>0.46</td>\n",
       "      <td>4.07</td>\n",
       "      <td>0.0</td>\n",
       "      <td>33</td>\n",
       "      <td>12</td>\n",
       "      <td>205</td>\n",
       "      <td>804</td>\n",
       "      <td>1819</td>\n",
       "    </tr>\n",
       "    <tr>\n",
       "      <th>1</th>\n",
       "      <td>1503960366</td>\n",
       "      <td>3/26/2016</td>\n",
       "      <td>17609</td>\n",
       "      <td>11.55</td>\n",
       "      <td>11.55</td>\n",
       "      <td>0.0</td>\n",
       "      <td>6.92</td>\n",
       "      <td>0.73</td>\n",
       "      <td>3.91</td>\n",
       "      <td>0.0</td>\n",
       "      <td>89</td>\n",
       "      <td>17</td>\n",
       "      <td>274</td>\n",
       "      <td>588</td>\n",
       "      <td>2154</td>\n",
       "    </tr>\n",
       "    <tr>\n",
       "      <th>2</th>\n",
       "      <td>1503960366</td>\n",
       "      <td>3/27/2016</td>\n",
       "      <td>12736</td>\n",
       "      <td>8.53</td>\n",
       "      <td>8.53</td>\n",
       "      <td>0.0</td>\n",
       "      <td>4.66</td>\n",
       "      <td>0.16</td>\n",
       "      <td>3.71</td>\n",
       "      <td>0.0</td>\n",
       "      <td>56</td>\n",
       "      <td>5</td>\n",
       "      <td>268</td>\n",
       "      <td>605</td>\n",
       "      <td>1944</td>\n",
       "    </tr>\n",
       "    <tr>\n",
       "      <th>3</th>\n",
       "      <td>1503960366</td>\n",
       "      <td>3/28/2016</td>\n",
       "      <td>13231</td>\n",
       "      <td>8.93</td>\n",
       "      <td>8.93</td>\n",
       "      <td>0.0</td>\n",
       "      <td>3.19</td>\n",
       "      <td>0.79</td>\n",
       "      <td>4.95</td>\n",
       "      <td>0.0</td>\n",
       "      <td>39</td>\n",
       "      <td>20</td>\n",
       "      <td>224</td>\n",
       "      <td>1080</td>\n",
       "      <td>1932</td>\n",
       "    </tr>\n",
       "    <tr>\n",
       "      <th>4</th>\n",
       "      <td>1503960366</td>\n",
       "      <td>3/29/2016</td>\n",
       "      <td>12041</td>\n",
       "      <td>7.85</td>\n",
       "      <td>7.85</td>\n",
       "      <td>0.0</td>\n",
       "      <td>2.16</td>\n",
       "      <td>1.09</td>\n",
       "      <td>4.61</td>\n",
       "      <td>0.0</td>\n",
       "      <td>28</td>\n",
       "      <td>28</td>\n",
       "      <td>243</td>\n",
       "      <td>763</td>\n",
       "      <td>1886</td>\n",
       "    </tr>\n",
       "    <tr>\n",
       "      <th>5</th>\n",
       "      <td>1503960366</td>\n",
       "      <td>3/30/2016</td>\n",
       "      <td>10970</td>\n",
       "      <td>7.16</td>\n",
       "      <td>7.16</td>\n",
       "      <td>0.0</td>\n",
       "      <td>2.36</td>\n",
       "      <td>0.51</td>\n",
       "      <td>4.29</td>\n",
       "      <td>0.0</td>\n",
       "      <td>30</td>\n",
       "      <td>13</td>\n",
       "      <td>223</td>\n",
       "      <td>1174</td>\n",
       "      <td>1820</td>\n",
       "    </tr>\n",
       "    <tr>\n",
       "      <th>6</th>\n",
       "      <td>1503960366</td>\n",
       "      <td>3/31/2016</td>\n",
       "      <td>12256</td>\n",
       "      <td>7.86</td>\n",
       "      <td>7.86</td>\n",
       "      <td>0.0</td>\n",
       "      <td>2.29</td>\n",
       "      <td>0.49</td>\n",
       "      <td>5.04</td>\n",
       "      <td>0.0</td>\n",
       "      <td>33</td>\n",
       "      <td>12</td>\n",
       "      <td>239</td>\n",
       "      <td>820</td>\n",
       "      <td>1889</td>\n",
       "    </tr>\n",
       "    <tr>\n",
       "      <th>7</th>\n",
       "      <td>1503960366</td>\n",
       "      <td>4/1/2016</td>\n",
       "      <td>12262</td>\n",
       "      <td>7.87</td>\n",
       "      <td>7.87</td>\n",
       "      <td>0.0</td>\n",
       "      <td>3.32</td>\n",
       "      <td>0.83</td>\n",
       "      <td>3.64</td>\n",
       "      <td>0.0</td>\n",
       "      <td>47</td>\n",
       "      <td>21</td>\n",
       "      <td>200</td>\n",
       "      <td>866</td>\n",
       "      <td>1868</td>\n",
       "    </tr>\n",
       "    <tr>\n",
       "      <th>8</th>\n",
       "      <td>1503960366</td>\n",
       "      <td>4/2/2016</td>\n",
       "      <td>11248</td>\n",
       "      <td>7.25</td>\n",
       "      <td>7.25</td>\n",
       "      <td>0.0</td>\n",
       "      <td>3.00</td>\n",
       "      <td>0.45</td>\n",
       "      <td>3.74</td>\n",
       "      <td>0.0</td>\n",
       "      <td>40</td>\n",
       "      <td>11</td>\n",
       "      <td>244</td>\n",
       "      <td>636</td>\n",
       "      <td>1843</td>\n",
       "    </tr>\n",
       "    <tr>\n",
       "      <th>9</th>\n",
       "      <td>1503960366</td>\n",
       "      <td>4/3/2016</td>\n",
       "      <td>10016</td>\n",
       "      <td>6.37</td>\n",
       "      <td>6.37</td>\n",
       "      <td>0.0</td>\n",
       "      <td>0.91</td>\n",
       "      <td>1.28</td>\n",
       "      <td>4.18</td>\n",
       "      <td>0.0</td>\n",
       "      <td>15</td>\n",
       "      <td>30</td>\n",
       "      <td>314</td>\n",
       "      <td>655</td>\n",
       "      <td>1850</td>\n",
       "    </tr>\n",
       "  </tbody>\n",
       "</table>\n",
       "</div>"
      ],
      "text/plain": [
       "           Id ActivityDate  TotalSteps  TotalDistance  TrackerDistance  \\\n",
       "0  1503960366    3/25/2016       11004           7.11             7.11   \n",
       "1  1503960366    3/26/2016       17609          11.55            11.55   \n",
       "2  1503960366    3/27/2016       12736           8.53             8.53   \n",
       "3  1503960366    3/28/2016       13231           8.93             8.93   \n",
       "4  1503960366    3/29/2016       12041           7.85             7.85   \n",
       "5  1503960366    3/30/2016       10970           7.16             7.16   \n",
       "6  1503960366    3/31/2016       12256           7.86             7.86   \n",
       "7  1503960366     4/1/2016       12262           7.87             7.87   \n",
       "8  1503960366     4/2/2016       11248           7.25             7.25   \n",
       "9  1503960366     4/3/2016       10016           6.37             6.37   \n",
       "\n",
       "   LoggedActivitiesDistance  VeryActiveDistance  ModeratelyActiveDistance  \\\n",
       "0                       0.0                2.57                      0.46   \n",
       "1                       0.0                6.92                      0.73   \n",
       "2                       0.0                4.66                      0.16   \n",
       "3                       0.0                3.19                      0.79   \n",
       "4                       0.0                2.16                      1.09   \n",
       "5                       0.0                2.36                      0.51   \n",
       "6                       0.0                2.29                      0.49   \n",
       "7                       0.0                3.32                      0.83   \n",
       "8                       0.0                3.00                      0.45   \n",
       "9                       0.0                0.91                      1.28   \n",
       "\n",
       "   LightActiveDistance  SedentaryActiveDistance  VeryActiveMinutes  \\\n",
       "0                 4.07                      0.0                 33   \n",
       "1                 3.91                      0.0                 89   \n",
       "2                 3.71                      0.0                 56   \n",
       "3                 4.95                      0.0                 39   \n",
       "4                 4.61                      0.0                 28   \n",
       "5                 4.29                      0.0                 30   \n",
       "6                 5.04                      0.0                 33   \n",
       "7                 3.64                      0.0                 47   \n",
       "8                 3.74                      0.0                 40   \n",
       "9                 4.18                      0.0                 15   \n",
       "\n",
       "   FairlyActiveMinutes  LightlyActiveMinutes  SedentaryMinutes  Calories  \n",
       "0                   12                   205               804      1819  \n",
       "1                   17                   274               588      2154  \n",
       "2                    5                   268               605      1944  \n",
       "3                   20                   224              1080      1932  \n",
       "4                   28                   243               763      1886  \n",
       "5                   13                   223              1174      1820  \n",
       "6                   12                   239               820      1889  \n",
       "7                   21                   200               866      1868  \n",
       "8                   11                   244               636      1843  \n",
       "9                   30                   314               655      1850  "
      ]
     },
     "execution_count": 4,
     "metadata": {},
     "output_type": "execute_result"
    }
   ],
   "source": [
    "df.head(10)"
   ]
  },
  {
   "cell_type": "markdown",
   "id": "0ac50361",
   "metadata": {
    "papermill": {
     "duration": 0.006475,
     "end_time": "2024-06-09T17:02:27.532752",
     "exception": false,
     "start_time": "2024-06-09T17:02:27.526277",
     "status": "completed"
    },
    "tags": []
   },
   "source": [
    "**Let's focus on the dependent variables (like: 'ActivityDate', 'TotalDistance') and try to know a little bit more about our df. Then, finding out whether there is any null or missing values in our dataframe**"
   ]
  },
  {
   "cell_type": "code",
   "execution_count": 5,
   "id": "78af6276",
   "metadata": {
    "execution": {
     "iopub.execute_input": "2024-06-09T17:02:27.547570Z",
     "iopub.status.busy": "2024-06-09T17:02:27.547185Z",
     "iopub.status.idle": "2024-06-09T17:02:27.558379Z",
     "shell.execute_reply": "2024-06-09T17:02:27.557291Z"
    },
    "papermill": {
     "duration": 0.02146,
     "end_time": "2024-06-09T17:02:27.560759",
     "exception": false,
     "start_time": "2024-06-09T17:02:27.539299",
     "status": "completed"
    },
    "tags": []
   },
   "outputs": [
    {
     "data": {
      "text/plain": [
       "Id                          0\n",
       "ActivityDate                0\n",
       "TotalSteps                  0\n",
       "TotalDistance               0\n",
       "TrackerDistance             0\n",
       "LoggedActivitiesDistance    0\n",
       "VeryActiveDistance          0\n",
       "ModeratelyActiveDistance    0\n",
       "LightActiveDistance         0\n",
       "SedentaryActiveDistance     0\n",
       "VeryActiveMinutes           0\n",
       "FairlyActiveMinutes         0\n",
       "LightlyActiveMinutes        0\n",
       "SedentaryMinutes            0\n",
       "Calories                    0\n",
       "dtype: int64"
      ]
     },
     "execution_count": 5,
     "metadata": {},
     "output_type": "execute_result"
    }
   ],
   "source": [
    "# obtain the # of missing data points per column\n",
    "missing_values_count = df.isnull().sum()\n",
    "\n",
    "# look at the # of missing points in all columns\n",
    "missing_values_count[:]"
   ]
  },
  {
   "cell_type": "code",
   "execution_count": 6,
   "id": "d15479fc",
   "metadata": {
    "execution": {
     "iopub.execute_input": "2024-06-09T17:02:27.576654Z",
     "iopub.status.busy": "2024-06-09T17:02:27.576261Z",
     "iopub.status.idle": "2024-06-09T17:02:27.587175Z",
     "shell.execute_reply": "2024-06-09T17:02:27.586205Z"
    },
    "papermill": {
     "duration": 0.021036,
     "end_time": "2024-06-09T17:02:27.589427",
     "exception": false,
     "start_time": "2024-06-09T17:02:27.568391",
     "status": "completed"
    },
    "tags": []
   },
   "outputs": [
    {
     "data": {
      "text/plain": [
       "35"
      ]
     },
     "execution_count": 6,
     "metadata": {},
     "output_type": "execute_result"
    }
   ],
   "source": [
    "df['Id'].nunique()"
   ]
  },
  {
   "cell_type": "markdown",
   "id": "bee15e4f",
   "metadata": {
    "papermill": {
     "duration": 0.006487,
     "end_time": "2024-06-09T17:02:27.602717",
     "exception": false,
     "start_time": "2024-06-09T17:02:27.596230",
     "status": "completed"
    },
    "tags": []
   },
   "source": [
    "**Another method to get unique values:**"
   ]
  },
  {
   "cell_type": "code",
   "execution_count": 7,
   "id": "6ef693f0",
   "metadata": {
    "execution": {
     "iopub.execute_input": "2024-06-09T17:02:27.618653Z",
     "iopub.status.busy": "2024-06-09T17:02:27.617613Z",
     "iopub.status.idle": "2024-06-09T17:02:27.625196Z",
     "shell.execute_reply": "2024-06-09T17:02:27.624029Z"
    },
    "papermill": {
     "duration": 0.017889,
     "end_time": "2024-06-09T17:02:27.627441",
     "exception": false,
     "start_time": "2024-06-09T17:02:27.609552",
     "status": "completed"
    },
    "tags": []
   },
   "outputs": [
    {
     "data": {
      "text/plain": [
       "35"
      ]
     },
     "execution_count": 7,
     "metadata": {},
     "output_type": "execute_result"
    }
   ],
   "source": [
    "len(df['Id'].unique())"
   ]
  },
  {
   "cell_type": "code",
   "execution_count": 8,
   "id": "b1af0dc6",
   "metadata": {
    "execution": {
     "iopub.execute_input": "2024-06-09T17:02:27.644054Z",
     "iopub.status.busy": "2024-06-09T17:02:27.643641Z",
     "iopub.status.idle": "2024-06-09T17:02:27.666445Z",
     "shell.execute_reply": "2024-06-09T17:02:27.665130Z"
    },
    "papermill": {
     "duration": 0.033725,
     "end_time": "2024-06-09T17:02:27.669315",
     "exception": false,
     "start_time": "2024-06-09T17:02:27.635590",
     "status": "completed"
    },
    "tags": []
   },
   "outputs": [
    {
     "name": "stdout",
     "output_type": "stream",
     "text": [
      "<class 'pandas.core.frame.DataFrame'>\n",
      "RangeIndex: 457 entries, 0 to 456\n",
      "Data columns (total 15 columns):\n",
      " #   Column                    Non-Null Count  Dtype  \n",
      "---  ------                    --------------  -----  \n",
      " 0   Id                        457 non-null    int64  \n",
      " 1   ActivityDate              457 non-null    object \n",
      " 2   TotalSteps                457 non-null    int64  \n",
      " 3   TotalDistance             457 non-null    float64\n",
      " 4   TrackerDistance           457 non-null    float64\n",
      " 5   LoggedActivitiesDistance  457 non-null    float64\n",
      " 6   VeryActiveDistance        457 non-null    float64\n",
      " 7   ModeratelyActiveDistance  457 non-null    float64\n",
      " 8   LightActiveDistance       457 non-null    float64\n",
      " 9   SedentaryActiveDistance   457 non-null    float64\n",
      " 10  VeryActiveMinutes         457 non-null    int64  \n",
      " 11  FairlyActiveMinutes       457 non-null    int64  \n",
      " 12  LightlyActiveMinutes      457 non-null    int64  \n",
      " 13  SedentaryMinutes          457 non-null    int64  \n",
      " 14  Calories                  457 non-null    int64  \n",
      "dtypes: float64(7), int64(7), object(1)\n",
      "memory usage: 53.7+ KB\n"
     ]
    }
   ],
   "source": [
    "df.info()"
   ]
  },
  {
   "cell_type": "markdown",
   "id": "f0f17750",
   "metadata": {
    "papermill": {
     "duration": 0.006836,
     "end_time": "2024-06-09T17:02:27.683343",
     "exception": false,
     "start_time": "2024-06-09T17:02:27.676507",
     "status": "completed"
    },
    "tags": []
   },
   "source": [
    "**To change the data type and clm name for 'ActivityDate'. 'ActivityDate' format to yyyy-mm-dd and this column name to 'Date'**"
   ]
  },
  {
   "cell_type": "code",
   "execution_count": 9,
   "id": "f79f16e4",
   "metadata": {
    "execution": {
     "iopub.execute_input": "2024-06-09T17:02:27.699359Z",
     "iopub.status.busy": "2024-06-09T17:02:27.698967Z",
     "iopub.status.idle": "2024-06-09T17:02:27.704838Z",
     "shell.execute_reply": "2024-06-09T17:02:27.703693Z"
    },
    "papermill": {
     "duration": 0.016823,
     "end_time": "2024-06-09T17:02:27.707215",
     "exception": false,
     "start_time": "2024-06-09T17:02:27.690392",
     "status": "completed"
    },
    "tags": []
   },
   "outputs": [],
   "source": [
    "#To change the column name\n",
    "df.rename(columns={'ActivityDate':'Date'},inplace=True)"
   ]
  },
  {
   "cell_type": "code",
   "execution_count": 10,
   "id": "e094247e",
   "metadata": {
    "execution": {
     "iopub.execute_input": "2024-06-09T17:02:27.723394Z",
     "iopub.status.busy": "2024-06-09T17:02:27.723004Z",
     "iopub.status.idle": "2024-06-09T17:02:27.744957Z",
     "shell.execute_reply": "2024-06-09T17:02:27.743866Z"
    },
    "papermill": {
     "duration": 0.033756,
     "end_time": "2024-06-09T17:02:27.748148",
     "exception": false,
     "start_time": "2024-06-09T17:02:27.714392",
     "status": "completed"
    },
    "tags": []
   },
   "outputs": [
    {
     "name": "stdout",
     "output_type": "stream",
     "text": [
      "<class 'pandas.core.frame.DataFrame'>\n",
      "RangeIndex: 457 entries, 0 to 456\n",
      "Data columns (total 15 columns):\n",
      " #   Column                    Non-Null Count  Dtype         \n",
      "---  ------                    --------------  -----         \n",
      " 0   Id                        457 non-null    int64         \n",
      " 1   Date                      457 non-null    datetime64[ns]\n",
      " 2   TotalSteps                457 non-null    int64         \n",
      " 3   TotalDistance             457 non-null    float64       \n",
      " 4   TrackerDistance           457 non-null    float64       \n",
      " 5   LoggedActivitiesDistance  457 non-null    float64       \n",
      " 6   VeryActiveDistance        457 non-null    float64       \n",
      " 7   ModeratelyActiveDistance  457 non-null    float64       \n",
      " 8   LightActiveDistance       457 non-null    float64       \n",
      " 9   SedentaryActiveDistance   457 non-null    float64       \n",
      " 10  VeryActiveMinutes         457 non-null    int64         \n",
      " 11  FairlyActiveMinutes       457 non-null    int64         \n",
      " 12  LightlyActiveMinutes      457 non-null    int64         \n",
      " 13  SedentaryMinutes          457 non-null    int64         \n",
      " 14  Calories                  457 non-null    int64         \n",
      "dtypes: datetime64[ns](1), float64(7), int64(7)\n",
      "memory usage: 53.7 KB\n"
     ]
    },
    {
     "data": {
      "text/plain": [
       "0   2016-03-25\n",
       "1   2016-03-26\n",
       "2   2016-03-27\n",
       "3   2016-03-28\n",
       "4   2016-03-29\n",
       "Name: Date, dtype: datetime64[ns]"
      ]
     },
     "execution_count": 10,
     "metadata": {},
     "output_type": "execute_result"
    }
   ],
   "source": [
    "# convert \"ActivityDate\" to datatime64 dtype and format to yyyy-mm-dd\n",
    "df[\"Date\"] = pd.to_datetime(df[\"Date\"], format=\"%m/%d/%Y\")\n",
    "\n",
    "# re-print information to confirm\n",
    "df.info()\n",
    "\n",
    "# print the first 5 rows of \"Date\" to confirm\n",
    "df[\"Date\"].head()"
   ]
  },
  {
   "cell_type": "code",
   "execution_count": 11,
   "id": "e3506cd5",
   "metadata": {
    "execution": {
     "iopub.execute_input": "2024-06-09T17:02:27.764503Z",
     "iopub.status.busy": "2024-06-09T17:02:27.764116Z",
     "iopub.status.idle": "2024-06-09T17:02:27.786116Z",
     "shell.execute_reply": "2024-06-09T17:02:27.784987Z"
    },
    "papermill": {
     "duration": 0.032763,
     "end_time": "2024-06-09T17:02:27.788354",
     "exception": false,
     "start_time": "2024-06-09T17:02:27.755591",
     "status": "completed"
    },
    "tags": []
   },
   "outputs": [
    {
     "data": {
      "text/html": [
       "<div>\n",
       "<style scoped>\n",
       "    .dataframe tbody tr th:only-of-type {\n",
       "        vertical-align: middle;\n",
       "    }\n",
       "\n",
       "    .dataframe tbody tr th {\n",
       "        vertical-align: top;\n",
       "    }\n",
       "\n",
       "    .dataframe thead th {\n",
       "        text-align: right;\n",
       "    }\n",
       "</style>\n",
       "<table border=\"1\" class=\"dataframe\">\n",
       "  <thead>\n",
       "    <tr style=\"text-align: right;\">\n",
       "      <th></th>\n",
       "      <th>Id</th>\n",
       "      <th>Date</th>\n",
       "      <th>TotalSteps</th>\n",
       "      <th>TotalDistance</th>\n",
       "      <th>TrackerDistance</th>\n",
       "      <th>LoggedActivitiesDistance</th>\n",
       "      <th>VeryActiveDistance</th>\n",
       "      <th>ModeratelyActiveDistance</th>\n",
       "      <th>LightActiveDistance</th>\n",
       "      <th>SedentaryActiveDistance</th>\n",
       "      <th>VeryActiveMinutes</th>\n",
       "      <th>FairlyActiveMinutes</th>\n",
       "      <th>LightlyActiveMinutes</th>\n",
       "      <th>SedentaryMinutes</th>\n",
       "      <th>Calories</th>\n",
       "      <th>DayOfWeek</th>\n",
       "    </tr>\n",
       "  </thead>\n",
       "  <tbody>\n",
       "    <tr>\n",
       "      <th>0</th>\n",
       "      <td>1503960366</td>\n",
       "      <td>2016-03-25</td>\n",
       "      <td>11004</td>\n",
       "      <td>7.11</td>\n",
       "      <td>7.11</td>\n",
       "      <td>0.0</td>\n",
       "      <td>2.57</td>\n",
       "      <td>0.46</td>\n",
       "      <td>4.07</td>\n",
       "      <td>0.0</td>\n",
       "      <td>33</td>\n",
       "      <td>12</td>\n",
       "      <td>205</td>\n",
       "      <td>804</td>\n",
       "      <td>1819</td>\n",
       "      <td>Friday</td>\n",
       "    </tr>\n",
       "    <tr>\n",
       "      <th>1</th>\n",
       "      <td>1503960366</td>\n",
       "      <td>2016-03-26</td>\n",
       "      <td>17609</td>\n",
       "      <td>11.55</td>\n",
       "      <td>11.55</td>\n",
       "      <td>0.0</td>\n",
       "      <td>6.92</td>\n",
       "      <td>0.73</td>\n",
       "      <td>3.91</td>\n",
       "      <td>0.0</td>\n",
       "      <td>89</td>\n",
       "      <td>17</td>\n",
       "      <td>274</td>\n",
       "      <td>588</td>\n",
       "      <td>2154</td>\n",
       "      <td>Saturday</td>\n",
       "    </tr>\n",
       "    <tr>\n",
       "      <th>2</th>\n",
       "      <td>1503960366</td>\n",
       "      <td>2016-03-27</td>\n",
       "      <td>12736</td>\n",
       "      <td>8.53</td>\n",
       "      <td>8.53</td>\n",
       "      <td>0.0</td>\n",
       "      <td>4.66</td>\n",
       "      <td>0.16</td>\n",
       "      <td>3.71</td>\n",
       "      <td>0.0</td>\n",
       "      <td>56</td>\n",
       "      <td>5</td>\n",
       "      <td>268</td>\n",
       "      <td>605</td>\n",
       "      <td>1944</td>\n",
       "      <td>Sunday</td>\n",
       "    </tr>\n",
       "    <tr>\n",
       "      <th>3</th>\n",
       "      <td>1503960366</td>\n",
       "      <td>2016-03-28</td>\n",
       "      <td>13231</td>\n",
       "      <td>8.93</td>\n",
       "      <td>8.93</td>\n",
       "      <td>0.0</td>\n",
       "      <td>3.19</td>\n",
       "      <td>0.79</td>\n",
       "      <td>4.95</td>\n",
       "      <td>0.0</td>\n",
       "      <td>39</td>\n",
       "      <td>20</td>\n",
       "      <td>224</td>\n",
       "      <td>1080</td>\n",
       "      <td>1932</td>\n",
       "      <td>Monday</td>\n",
       "    </tr>\n",
       "    <tr>\n",
       "      <th>4</th>\n",
       "      <td>1503960366</td>\n",
       "      <td>2016-03-29</td>\n",
       "      <td>12041</td>\n",
       "      <td>7.85</td>\n",
       "      <td>7.85</td>\n",
       "      <td>0.0</td>\n",
       "      <td>2.16</td>\n",
       "      <td>1.09</td>\n",
       "      <td>4.61</td>\n",
       "      <td>0.0</td>\n",
       "      <td>28</td>\n",
       "      <td>28</td>\n",
       "      <td>243</td>\n",
       "      <td>763</td>\n",
       "      <td>1886</td>\n",
       "      <td>Tuesday</td>\n",
       "    </tr>\n",
       "  </tbody>\n",
       "</table>\n",
       "</div>"
      ],
      "text/plain": [
       "           Id       Date  TotalSteps  TotalDistance  TrackerDistance  \\\n",
       "0  1503960366 2016-03-25       11004           7.11             7.11   \n",
       "1  1503960366 2016-03-26       17609          11.55            11.55   \n",
       "2  1503960366 2016-03-27       12736           8.53             8.53   \n",
       "3  1503960366 2016-03-28       13231           8.93             8.93   \n",
       "4  1503960366 2016-03-29       12041           7.85             7.85   \n",
       "\n",
       "   LoggedActivitiesDistance  VeryActiveDistance  ModeratelyActiveDistance  \\\n",
       "0                       0.0                2.57                      0.46   \n",
       "1                       0.0                6.92                      0.73   \n",
       "2                       0.0                4.66                      0.16   \n",
       "3                       0.0                3.19                      0.79   \n",
       "4                       0.0                2.16                      1.09   \n",
       "\n",
       "   LightActiveDistance  SedentaryActiveDistance  VeryActiveMinutes  \\\n",
       "0                 4.07                      0.0                 33   \n",
       "1                 3.91                      0.0                 89   \n",
       "2                 3.71                      0.0                 56   \n",
       "3                 4.95                      0.0                 39   \n",
       "4                 4.61                      0.0                 28   \n",
       "\n",
       "   FairlyActiveMinutes  LightlyActiveMinutes  SedentaryMinutes  Calories  \\\n",
       "0                   12                   205               804      1819   \n",
       "1                   17                   274               588      2154   \n",
       "2                    5                   268               605      1944   \n",
       "3                   20                   224              1080      1932   \n",
       "4                   28                   243               763      1886   \n",
       "\n",
       "  DayOfWeek  \n",
       "0    Friday  \n",
       "1  Saturday  \n",
       "2    Sunday  \n",
       "3    Monday  \n",
       "4   Tuesday  "
      ]
     },
     "execution_count": 11,
     "metadata": {},
     "output_type": "execute_result"
    }
   ],
   "source": [
    "# Define a new Column that contain the Day of week\n",
    "df['DayOfWeek'] = df['Date'].dt.day_name()\n",
    "df.head()"
   ]
  },
  {
   "cell_type": "markdown",
   "id": "0332408d",
   "metadata": {
    "papermill": {
     "duration": 0.007173,
     "end_time": "2024-06-09T17:02:27.803261",
     "exception": false,
     "start_time": "2024-06-09T17:02:27.796088",
     "status": "completed"
    },
    "tags": []
   },
   "source": [
    "**Let's find out total minutes and convert it into total hours**"
   ]
  },
  {
   "cell_type": "code",
   "execution_count": 12,
   "id": "5bdb5408",
   "metadata": {
    "execution": {
     "iopub.execute_input": "2024-06-09T17:02:27.819960Z",
     "iopub.status.busy": "2024-06-09T17:02:27.819566Z",
     "iopub.status.idle": "2024-06-09T17:02:27.847561Z",
     "shell.execute_reply": "2024-06-09T17:02:27.846393Z"
    },
    "papermill": {
     "duration": 0.039157,
     "end_time": "2024-06-09T17:02:27.850003",
     "exception": false,
     "start_time": "2024-06-09T17:02:27.810846",
     "status": "completed"
    },
    "tags": []
   },
   "outputs": [
    {
     "data": {
      "text/html": [
       "<div>\n",
       "<style scoped>\n",
       "    .dataframe tbody tr th:only-of-type {\n",
       "        vertical-align: middle;\n",
       "    }\n",
       "\n",
       "    .dataframe tbody tr th {\n",
       "        vertical-align: top;\n",
       "    }\n",
       "\n",
       "    .dataframe thead th {\n",
       "        text-align: right;\n",
       "    }\n",
       "</style>\n",
       "<table border=\"1\" class=\"dataframe\">\n",
       "  <thead>\n",
       "    <tr style=\"text-align: right;\">\n",
       "      <th></th>\n",
       "      <th>Id</th>\n",
       "      <th>Date</th>\n",
       "      <th>TotalSteps</th>\n",
       "      <th>TotalDistance</th>\n",
       "      <th>TrackerDistance</th>\n",
       "      <th>LoggedActivitiesDistance</th>\n",
       "      <th>VeryActiveDistance</th>\n",
       "      <th>ModeratelyActiveDistance</th>\n",
       "      <th>LightActiveDistance</th>\n",
       "      <th>SedentaryActiveDistance</th>\n",
       "      <th>VeryActiveMinutes</th>\n",
       "      <th>FairlyActiveMinutes</th>\n",
       "      <th>LightlyActiveMinutes</th>\n",
       "      <th>SedentaryMinutes</th>\n",
       "      <th>Calories</th>\n",
       "      <th>DayOfWeek</th>\n",
       "      <th>Total_minutes</th>\n",
       "      <th>Total_hours</th>\n",
       "    </tr>\n",
       "  </thead>\n",
       "  <tbody>\n",
       "    <tr>\n",
       "      <th>0</th>\n",
       "      <td>1503960366</td>\n",
       "      <td>2016-03-25</td>\n",
       "      <td>11004</td>\n",
       "      <td>7.11</td>\n",
       "      <td>7.11</td>\n",
       "      <td>0.0</td>\n",
       "      <td>2.57</td>\n",
       "      <td>0.46</td>\n",
       "      <td>4.07</td>\n",
       "      <td>0.0</td>\n",
       "      <td>33</td>\n",
       "      <td>12</td>\n",
       "      <td>205</td>\n",
       "      <td>804</td>\n",
       "      <td>1819</td>\n",
       "      <td>Friday</td>\n",
       "      <td>1054</td>\n",
       "      <td>18.0</td>\n",
       "    </tr>\n",
       "    <tr>\n",
       "      <th>1</th>\n",
       "      <td>1503960366</td>\n",
       "      <td>2016-03-26</td>\n",
       "      <td>17609</td>\n",
       "      <td>11.55</td>\n",
       "      <td>11.55</td>\n",
       "      <td>0.0</td>\n",
       "      <td>6.92</td>\n",
       "      <td>0.73</td>\n",
       "      <td>3.91</td>\n",
       "      <td>0.0</td>\n",
       "      <td>89</td>\n",
       "      <td>17</td>\n",
       "      <td>274</td>\n",
       "      <td>588</td>\n",
       "      <td>2154</td>\n",
       "      <td>Saturday</td>\n",
       "      <td>968</td>\n",
       "      <td>16.0</td>\n",
       "    </tr>\n",
       "    <tr>\n",
       "      <th>2</th>\n",
       "      <td>1503960366</td>\n",
       "      <td>2016-03-27</td>\n",
       "      <td>12736</td>\n",
       "      <td>8.53</td>\n",
       "      <td>8.53</td>\n",
       "      <td>0.0</td>\n",
       "      <td>4.66</td>\n",
       "      <td>0.16</td>\n",
       "      <td>3.71</td>\n",
       "      <td>0.0</td>\n",
       "      <td>56</td>\n",
       "      <td>5</td>\n",
       "      <td>268</td>\n",
       "      <td>605</td>\n",
       "      <td>1944</td>\n",
       "      <td>Sunday</td>\n",
       "      <td>934</td>\n",
       "      <td>16.0</td>\n",
       "    </tr>\n",
       "    <tr>\n",
       "      <th>3</th>\n",
       "      <td>1503960366</td>\n",
       "      <td>2016-03-28</td>\n",
       "      <td>13231</td>\n",
       "      <td>8.93</td>\n",
       "      <td>8.93</td>\n",
       "      <td>0.0</td>\n",
       "      <td>3.19</td>\n",
       "      <td>0.79</td>\n",
       "      <td>4.95</td>\n",
       "      <td>0.0</td>\n",
       "      <td>39</td>\n",
       "      <td>20</td>\n",
       "      <td>224</td>\n",
       "      <td>1080</td>\n",
       "      <td>1932</td>\n",
       "      <td>Monday</td>\n",
       "      <td>1363</td>\n",
       "      <td>23.0</td>\n",
       "    </tr>\n",
       "    <tr>\n",
       "      <th>4</th>\n",
       "      <td>1503960366</td>\n",
       "      <td>2016-03-29</td>\n",
       "      <td>12041</td>\n",
       "      <td>7.85</td>\n",
       "      <td>7.85</td>\n",
       "      <td>0.0</td>\n",
       "      <td>2.16</td>\n",
       "      <td>1.09</td>\n",
       "      <td>4.61</td>\n",
       "      <td>0.0</td>\n",
       "      <td>28</td>\n",
       "      <td>28</td>\n",
       "      <td>243</td>\n",
       "      <td>763</td>\n",
       "      <td>1886</td>\n",
       "      <td>Tuesday</td>\n",
       "      <td>1062</td>\n",
       "      <td>18.0</td>\n",
       "    </tr>\n",
       "    <tr>\n",
       "      <th>5</th>\n",
       "      <td>1503960366</td>\n",
       "      <td>2016-03-30</td>\n",
       "      <td>10970</td>\n",
       "      <td>7.16</td>\n",
       "      <td>7.16</td>\n",
       "      <td>0.0</td>\n",
       "      <td>2.36</td>\n",
       "      <td>0.51</td>\n",
       "      <td>4.29</td>\n",
       "      <td>0.0</td>\n",
       "      <td>30</td>\n",
       "      <td>13</td>\n",
       "      <td>223</td>\n",
       "      <td>1174</td>\n",
       "      <td>1820</td>\n",
       "      <td>Wednesday</td>\n",
       "      <td>1440</td>\n",
       "      <td>24.0</td>\n",
       "    </tr>\n",
       "    <tr>\n",
       "      <th>6</th>\n",
       "      <td>1503960366</td>\n",
       "      <td>2016-03-31</td>\n",
       "      <td>12256</td>\n",
       "      <td>7.86</td>\n",
       "      <td>7.86</td>\n",
       "      <td>0.0</td>\n",
       "      <td>2.29</td>\n",
       "      <td>0.49</td>\n",
       "      <td>5.04</td>\n",
       "      <td>0.0</td>\n",
       "      <td>33</td>\n",
       "      <td>12</td>\n",
       "      <td>239</td>\n",
       "      <td>820</td>\n",
       "      <td>1889</td>\n",
       "      <td>Thursday</td>\n",
       "      <td>1104</td>\n",
       "      <td>18.0</td>\n",
       "    </tr>\n",
       "    <tr>\n",
       "      <th>7</th>\n",
       "      <td>1503960366</td>\n",
       "      <td>2016-04-01</td>\n",
       "      <td>12262</td>\n",
       "      <td>7.87</td>\n",
       "      <td>7.87</td>\n",
       "      <td>0.0</td>\n",
       "      <td>3.32</td>\n",
       "      <td>0.83</td>\n",
       "      <td>3.64</td>\n",
       "      <td>0.0</td>\n",
       "      <td>47</td>\n",
       "      <td>21</td>\n",
       "      <td>200</td>\n",
       "      <td>866</td>\n",
       "      <td>1868</td>\n",
       "      <td>Friday</td>\n",
       "      <td>1134</td>\n",
       "      <td>19.0</td>\n",
       "    </tr>\n",
       "    <tr>\n",
       "      <th>8</th>\n",
       "      <td>1503960366</td>\n",
       "      <td>2016-04-02</td>\n",
       "      <td>11248</td>\n",
       "      <td>7.25</td>\n",
       "      <td>7.25</td>\n",
       "      <td>0.0</td>\n",
       "      <td>3.00</td>\n",
       "      <td>0.45</td>\n",
       "      <td>3.74</td>\n",
       "      <td>0.0</td>\n",
       "      <td>40</td>\n",
       "      <td>11</td>\n",
       "      <td>244</td>\n",
       "      <td>636</td>\n",
       "      <td>1843</td>\n",
       "      <td>Saturday</td>\n",
       "      <td>931</td>\n",
       "      <td>16.0</td>\n",
       "    </tr>\n",
       "    <tr>\n",
       "      <th>9</th>\n",
       "      <td>1503960366</td>\n",
       "      <td>2016-04-03</td>\n",
       "      <td>10016</td>\n",
       "      <td>6.37</td>\n",
       "      <td>6.37</td>\n",
       "      <td>0.0</td>\n",
       "      <td>0.91</td>\n",
       "      <td>1.28</td>\n",
       "      <td>4.18</td>\n",
       "      <td>0.0</td>\n",
       "      <td>15</td>\n",
       "      <td>30</td>\n",
       "      <td>314</td>\n",
       "      <td>655</td>\n",
       "      <td>1850</td>\n",
       "      <td>Sunday</td>\n",
       "      <td>1014</td>\n",
       "      <td>17.0</td>\n",
       "    </tr>\n",
       "  </tbody>\n",
       "</table>\n",
       "</div>"
      ],
      "text/plain": [
       "           Id       Date  TotalSteps  TotalDistance  TrackerDistance  \\\n",
       "0  1503960366 2016-03-25       11004           7.11             7.11   \n",
       "1  1503960366 2016-03-26       17609          11.55            11.55   \n",
       "2  1503960366 2016-03-27       12736           8.53             8.53   \n",
       "3  1503960366 2016-03-28       13231           8.93             8.93   \n",
       "4  1503960366 2016-03-29       12041           7.85             7.85   \n",
       "5  1503960366 2016-03-30       10970           7.16             7.16   \n",
       "6  1503960366 2016-03-31       12256           7.86             7.86   \n",
       "7  1503960366 2016-04-01       12262           7.87             7.87   \n",
       "8  1503960366 2016-04-02       11248           7.25             7.25   \n",
       "9  1503960366 2016-04-03       10016           6.37             6.37   \n",
       "\n",
       "   LoggedActivitiesDistance  VeryActiveDistance  ModeratelyActiveDistance  \\\n",
       "0                       0.0                2.57                      0.46   \n",
       "1                       0.0                6.92                      0.73   \n",
       "2                       0.0                4.66                      0.16   \n",
       "3                       0.0                3.19                      0.79   \n",
       "4                       0.0                2.16                      1.09   \n",
       "5                       0.0                2.36                      0.51   \n",
       "6                       0.0                2.29                      0.49   \n",
       "7                       0.0                3.32                      0.83   \n",
       "8                       0.0                3.00                      0.45   \n",
       "9                       0.0                0.91                      1.28   \n",
       "\n",
       "   LightActiveDistance  SedentaryActiveDistance  VeryActiveMinutes  \\\n",
       "0                 4.07                      0.0                 33   \n",
       "1                 3.91                      0.0                 89   \n",
       "2                 3.71                      0.0                 56   \n",
       "3                 4.95                      0.0                 39   \n",
       "4                 4.61                      0.0                 28   \n",
       "5                 4.29                      0.0                 30   \n",
       "6                 5.04                      0.0                 33   \n",
       "7                 3.64                      0.0                 47   \n",
       "8                 3.74                      0.0                 40   \n",
       "9                 4.18                      0.0                 15   \n",
       "\n",
       "   FairlyActiveMinutes  LightlyActiveMinutes  SedentaryMinutes  Calories  \\\n",
       "0                   12                   205               804      1819   \n",
       "1                   17                   274               588      2154   \n",
       "2                    5                   268               605      1944   \n",
       "3                   20                   224              1080      1932   \n",
       "4                   28                   243               763      1886   \n",
       "5                   13                   223              1174      1820   \n",
       "6                   12                   239               820      1889   \n",
       "7                   21                   200               866      1868   \n",
       "8                   11                   244               636      1843   \n",
       "9                   30                   314               655      1850   \n",
       "\n",
       "   DayOfWeek  Total_minutes  Total_hours  \n",
       "0     Friday           1054         18.0  \n",
       "1   Saturday            968         16.0  \n",
       "2     Sunday            934         16.0  \n",
       "3     Monday           1363         23.0  \n",
       "4    Tuesday           1062         18.0  \n",
       "5  Wednesday           1440         24.0  \n",
       "6   Thursday           1104         18.0  \n",
       "7     Friday           1134         19.0  \n",
       "8   Saturday            931         16.0  \n",
       "9     Sunday           1014         17.0  "
      ]
     },
     "execution_count": 12,
     "metadata": {},
     "output_type": "execute_result"
    }
   ],
   "source": [
    "df['Total_minutes'] = df['VeryActiveMinutes']+df['FairlyActiveMinutes']+df['LightlyActiveMinutes']+df['SedentaryMinutes']\n",
    "\n",
    "df['Total_hours'] = np.round(df['Total_minutes']/60)\n",
    "df.head(10)"
   ]
  },
  {
   "cell_type": "code",
   "execution_count": 13,
   "id": "1c50f882",
   "metadata": {
    "execution": {
     "iopub.execute_input": "2024-06-09T17:02:27.867760Z",
     "iopub.status.busy": "2024-06-09T17:02:27.867382Z",
     "iopub.status.idle": "2024-06-09T17:02:27.880052Z",
     "shell.execute_reply": "2024-06-09T17:02:27.878901Z"
    },
    "papermill": {
     "duration": 0.024387,
     "end_time": "2024-06-09T17:02:27.882579",
     "exception": false,
     "start_time": "2024-06-09T17:02:27.858192",
     "status": "completed"
    },
    "tags": []
   },
   "outputs": [
    {
     "data": {
      "text/plain": [
       "0"
      ]
     },
     "execution_count": 13,
     "metadata": {},
     "output_type": "execute_result"
    }
   ],
   "source": [
    "df.duplicated().sum()"
   ]
  },
  {
   "cell_type": "markdown",
   "id": "4876ae20",
   "metadata": {
    "papermill": {
     "duration": 0.007819,
     "end_time": "2024-06-09T17:02:27.898536",
     "exception": false,
     "start_time": "2024-06-09T17:02:27.890717",
     "status": "completed"
    },
    "tags": []
   },
   "source": [
    "**Data Visualization and findings:**"
   ]
  },
  {
   "cell_type": "code",
   "execution_count": 14,
   "id": "4823322e",
   "metadata": {
    "execution": {
     "iopub.execute_input": "2024-06-09T17:02:27.916976Z",
     "iopub.status.busy": "2024-06-09T17:02:27.916576Z",
     "iopub.status.idle": "2024-06-09T17:02:28.291243Z",
     "shell.execute_reply": "2024-06-09T17:02:28.290172Z"
    },
    "papermill": {
     "duration": 0.387105,
     "end_time": "2024-06-09T17:02:28.293774",
     "exception": false,
     "start_time": "2024-06-09T17:02:27.906669",
     "status": "completed"
    },
    "tags": []
   },
   "outputs": [
    {
     "data": {
      "image/png": "[encoded data removed]",
      "text/plain": [
       "<Figure size 600x400 with 1 Axes>"
      ]
     },
     "metadata": {},
     "output_type": "display_data"
    }
   ],
   "source": [
    "# import matplotlib package\n",
    "import matplotlib.pyplot as plt\n",
    "\n",
    "# plotting histogram\n",
    "plt.style.use(\"default\")\n",
    "plt.figure(figsize=(6,4)) # specify size of the chart\n",
    "plt.hist(df.DayOfWeek, bins = 7, color='r', width = 0.6, edgecolor = \"black\")\n",
    "\n",
    "# adding annotations and visuals\n",
    "plt.xlabel(\"DayOfWeek\")\n",
    "plt.ylabel(\"Frequency\")\n",
    "\n",
    "plt.title(\"No. of times users logged in app across the week\")\n",
    "plt.xticks(rotation = 'vertical')\n",
    "\n",
    "plt.grid(True)\n",
    "plt.show()"
   ]
  },
  {
   "cell_type": "markdown",
   "id": "9e8aa7d2",
   "metadata": {
    "papermill": {
     "duration": 0.008503,
     "end_time": "2024-06-09T17:02:28.311115",
     "exception": false,
     "start_time": "2024-06-09T17:02:28.302612",
     "status": "completed"
    },
    "tags": []
   },
   "source": [
    "**Frequency of usage across the week**\n",
    "In this histogram, we are looking at the frequency of FitBit app usage in terms of days of the week.\n",
    "\n",
    "We can see that mostly on Wednesday and Thursday, people tend to not log on to the app."
   ]
  },
  {
   "cell_type": "code",
   "execution_count": 15,
   "id": "cae266e8",
   "metadata": {
    "execution": {
     "iopub.execute_input": "2024-06-09T17:02:28.330342Z",
     "iopub.status.busy": "2024-06-09T17:02:28.329943Z",
     "iopub.status.idle": "2024-06-09T17:02:28.494994Z",
     "shell.execute_reply": "2024-06-09T17:02:28.493625Z"
    },
    "papermill": {
     "duration": 0.178578,
     "end_time": "2024-06-09T17:02:28.498315",
     "exception": false,
     "start_time": "2024-06-09T17:02:28.319737",
     "status": "completed"
    },
    "tags": []
   },
   "outputs": [
    {
     "data": {
      "image/png": "[encoded data removed]",
      "text/plain": [
       "<Figure size 640x480 with 1 Axes>"
      ]
     },
     "metadata": {},
     "output_type": "display_data"
    }
   ],
   "source": [
    "#Plotting a pie chart showing the distribution of active minutes\n",
    "\n",
    "minutes = [df.VeryActiveMinutes.sum(),df.FairlyActiveMinutes.sum(),df.LightlyActiveMinutes.sum(),df.SedentaryMinutes.sum()]\n",
    "labels = ['VeryActiveMinutes','FairlyActiveMinutes','LightlyActiveMinutes','SedentaryMinutes']\n",
    "\n",
    "plt.pie(minutes,labels=labels,autopct='%1.1f%%',explode=[0,0,0,0.15])\n",
    "\n",
    "plt.show()"
   ]
  },
  {
   "cell_type": "code",
   "execution_count": 16,
   "id": "b25604e1",
   "metadata": {
    "execution": {
     "iopub.execute_input": "2024-06-09T17:02:28.531958Z",
     "iopub.status.busy": "2024-06-09T17:02:28.530899Z",
     "iopub.status.idle": "2024-06-09T17:02:29.301871Z",
     "shell.execute_reply": "2024-06-09T17:02:29.300603Z"
    },
    "papermill": {
     "duration": 0.790719,
     "end_time": "2024-06-09T17:02:29.304905",
     "exception": false,
     "start_time": "2024-06-09T17:02:28.514186",
     "status": "completed"
    },
    "tags": []
   },
   "outputs": [
    {
     "data": {
      "text/plain": [
       "<seaborn.axisgrid.JointGrid at 0x7c35cd711a20>"
      ]
     },
     "execution_count": 16,
     "metadata": {},
     "output_type": "execute_result"
    },
    {
     "data": {
      "image/png": "[encoded data removed]",
      "text/plain": [
       "<Figure size 600x600 with 3 Axes>"
      ]
     },
     "metadata": {},
     "output_type": "display_data"
    }
   ],
   "source": [
    "#We can notice sedentary minutes are 83% of the total minutes. Finding relationship between SedentaryMinutes and total Calories burn\n",
    "sns.jointplot(x='SedentaryMinutes',y='Calories',data = df)"
   ]
  },
  {
   "cell_type": "code",
   "execution_count": 17,
   "id": "05d5fa64",
   "metadata": {
    "execution": {
     "iopub.execute_input": "2024-06-09T17:02:29.327882Z",
     "iopub.status.busy": "2024-06-09T17:02:29.326810Z",
     "iopub.status.idle": "2024-06-09T17:02:29.351084Z",
     "shell.execute_reply": "2024-06-09T17:02:29.349889Z"
    },
    "papermill": {
     "duration": 0.038135,
     "end_time": "2024-06-09T17:02:29.353503",
     "exception": false,
     "start_time": "2024-06-09T17:02:29.315368",
     "status": "completed"
    },
    "tags": []
   },
   "outputs": [
    {
     "data": {
      "text/html": [
       "<div>\n",
       "<style scoped>\n",
       "    .dataframe tbody tr th:only-of-type {\n",
       "        vertical-align: middle;\n",
       "    }\n",
       "\n",
       "    .dataframe tbody tr th {\n",
       "        vertical-align: top;\n",
       "    }\n",
       "\n",
       "    .dataframe thead th {\n",
       "        text-align: right;\n",
       "    }\n",
       "</style>\n",
       "<table border=\"1\" class=\"dataframe\">\n",
       "  <thead>\n",
       "    <tr style=\"text-align: right;\">\n",
       "      <th></th>\n",
       "      <th>Id</th>\n",
       "      <th>TotalSteps</th>\n",
       "      <th>TotalDistance</th>\n",
       "      <th>TrackerDistance</th>\n",
       "      <th>LoggedActivitiesDistance</th>\n",
       "      <th>VeryActiveDistance</th>\n",
       "      <th>ModeratelyActiveDistance</th>\n",
       "      <th>LightActiveDistance</th>\n",
       "      <th>SedentaryActiveDistance</th>\n",
       "      <th>Calories</th>\n",
       "      <th>Total_minutes</th>\n",
       "      <th>Total_hours</th>\n",
       "    </tr>\n",
       "  </thead>\n",
       "  <tbody>\n",
       "    <tr>\n",
       "      <th>Id</th>\n",
       "      <td>1.000000</td>\n",
       "      <td>0.138662</td>\n",
       "      <td>0.185495</td>\n",
       "      <td>0.177983</td>\n",
       "      <td>0.191242</td>\n",
       "      <td>0.290048</td>\n",
       "      <td>0.032029</td>\n",
       "      <td>0.015666</td>\n",
       "      <td>-0.019149</td>\n",
       "      <td>0.290868</td>\n",
       "      <td>-0.029175</td>\n",
       "      <td>-0.030675</td>\n",
       "    </tr>\n",
       "    <tr>\n",
       "      <th>TotalSteps</th>\n",
       "      <td>0.138662</td>\n",
       "      <td>1.000000</td>\n",
       "      <td>0.986789</td>\n",
       "      <td>0.982997</td>\n",
       "      <td>0.146380</td>\n",
       "      <td>0.733689</td>\n",
       "      <td>0.541838</td>\n",
       "      <td>0.775562</td>\n",
       "      <td>0.081965</td>\n",
       "      <td>0.581380</td>\n",
       "      <td>0.041449</td>\n",
       "      <td>0.042639</td>\n",
       "    </tr>\n",
       "    <tr>\n",
       "      <th>TotalDistance</th>\n",
       "      <td>0.185495</td>\n",
       "      <td>0.986789</td>\n",
       "      <td>1.000000</td>\n",
       "      <td>0.995122</td>\n",
       "      <td>0.164312</td>\n",
       "      <td>0.791778</td>\n",
       "      <td>0.515128</td>\n",
       "      <td>0.744812</td>\n",
       "      <td>0.080787</td>\n",
       "      <td>0.613647</td>\n",
       "      <td>0.053311</td>\n",
       "      <td>0.054483</td>\n",
       "    </tr>\n",
       "    <tr>\n",
       "      <th>TrackerDistance</th>\n",
       "      <td>0.177983</td>\n",
       "      <td>0.982997</td>\n",
       "      <td>0.995122</td>\n",
       "      <td>1.000000</td>\n",
       "      <td>0.094890</td>\n",
       "      <td>0.789353</td>\n",
       "      <td>0.516099</td>\n",
       "      <td>0.737570</td>\n",
       "      <td>0.077461</td>\n",
       "      <td>0.612066</td>\n",
       "      <td>0.049276</td>\n",
       "      <td>0.050529</td>\n",
       "    </tr>\n",
       "    <tr>\n",
       "      <th>LoggedActivitiesDistance</th>\n",
       "      <td>0.191242</td>\n",
       "      <td>0.146380</td>\n",
       "      <td>0.164312</td>\n",
       "      <td>0.094890</td>\n",
       "      <td>1.000000</td>\n",
       "      <td>0.154754</td>\n",
       "      <td>0.060123</td>\n",
       "      <td>0.115671</td>\n",
       "      <td>0.091091</td>\n",
       "      <td>0.148740</td>\n",
       "      <td>-0.000918</td>\n",
       "      <td>-0.000657</td>\n",
       "    </tr>\n",
       "    <tr>\n",
       "      <th>VeryActiveDistance</th>\n",
       "      <td>0.290048</td>\n",
       "      <td>0.733689</td>\n",
       "      <td>0.791778</td>\n",
       "      <td>0.789353</td>\n",
       "      <td>0.154754</td>\n",
       "      <td>1.000000</td>\n",
       "      <td>0.240440</td>\n",
       "      <td>0.264580</td>\n",
       "      <td>0.044666</td>\n",
       "      <td>0.434133</td>\n",
       "      <td>0.076645</td>\n",
       "      <td>0.077098</td>\n",
       "    </tr>\n",
       "    <tr>\n",
       "      <th>ModeratelyActiveDistance</th>\n",
       "      <td>0.032029</td>\n",
       "      <td>0.541838</td>\n",
       "      <td>0.515128</td>\n",
       "      <td>0.516099</td>\n",
       "      <td>0.060123</td>\n",
       "      <td>0.240440</td>\n",
       "      <td>1.000000</td>\n",
       "      <td>0.326959</td>\n",
       "      <td>0.016350</td>\n",
       "      <td>0.300781</td>\n",
       "      <td>-0.061373</td>\n",
       "      <td>-0.062010</td>\n",
       "    </tr>\n",
       "    <tr>\n",
       "      <th>LightActiveDistance</th>\n",
       "      <td>0.015666</td>\n",
       "      <td>0.775562</td>\n",
       "      <td>0.744812</td>\n",
       "      <td>0.737570</td>\n",
       "      <td>0.115671</td>\n",
       "      <td>0.264580</td>\n",
       "      <td>0.326959</td>\n",
       "      <td>1.000000</td>\n",
       "      <td>0.069051</td>\n",
       "      <td>0.451239</td>\n",
       "      <td>0.003517</td>\n",
       "      <td>0.005734</td>\n",
       "    </tr>\n",
       "    <tr>\n",
       "      <th>SedentaryActiveDistance</th>\n",
       "      <td>-0.019149</td>\n",
       "      <td>0.081965</td>\n",
       "      <td>0.080787</td>\n",
       "      <td>0.077461</td>\n",
       "      <td>0.091091</td>\n",
       "      <td>0.044666</td>\n",
       "      <td>0.016350</td>\n",
       "      <td>0.069051</td>\n",
       "      <td>1.000000</td>\n",
       "      <td>0.096874</td>\n",
       "      <td>0.093079</td>\n",
       "      <td>0.092814</td>\n",
       "    </tr>\n",
       "    <tr>\n",
       "      <th>Calories</th>\n",
       "      <td>0.290868</td>\n",
       "      <td>0.581380</td>\n",
       "      <td>0.613647</td>\n",
       "      <td>0.612066</td>\n",
       "      <td>0.148740</td>\n",
       "      <td>0.434133</td>\n",
       "      <td>0.300781</td>\n",
       "      <td>0.451239</td>\n",
       "      <td>0.096874</td>\n",
       "      <td>1.000000</td>\n",
       "      <td>0.251934</td>\n",
       "      <td>0.254466</td>\n",
       "    </tr>\n",
       "    <tr>\n",
       "      <th>Total_minutes</th>\n",
       "      <td>-0.029175</td>\n",
       "      <td>0.041449</td>\n",
       "      <td>0.053311</td>\n",
       "      <td>0.049276</td>\n",
       "      <td>-0.000918</td>\n",
       "      <td>0.076645</td>\n",
       "      <td>-0.061373</td>\n",
       "      <td>0.003517</td>\n",
       "      <td>0.093079</td>\n",
       "      <td>0.251934</td>\n",
       "      <td>1.000000</td>\n",
       "      <td>0.999205</td>\n",
       "    </tr>\n",
       "    <tr>\n",
       "      <th>Total_hours</th>\n",
       "      <td>-0.030675</td>\n",
       "      <td>0.042639</td>\n",
       "      <td>0.054483</td>\n",
       "      <td>0.050529</td>\n",
       "      <td>-0.000657</td>\n",
       "      <td>0.077098</td>\n",
       "      <td>-0.062010</td>\n",
       "      <td>0.005734</td>\n",
       "      <td>0.092814</td>\n",
       "      <td>0.254466</td>\n",
       "      <td>0.999205</td>\n",
       "      <td>1.000000</td>\n",
       "    </tr>\n",
       "  </tbody>\n",
       "</table>\n",
       "</div>"
      ],
      "text/plain": [
       "                                Id  TotalSteps  TotalDistance  \\\n",
       "Id                        1.000000    0.138662       0.185495   \n",
       "TotalSteps                0.138662    1.000000       0.986789   \n",
       "TotalDistance             0.185495    0.986789       1.000000   \n",
       "TrackerDistance           0.177983    0.982997       0.995122   \n",
       "LoggedActivitiesDistance  0.191242    0.146380       0.164312   \n",
       "VeryActiveDistance        0.290048    0.733689       0.791778   \n",
       "ModeratelyActiveDistance  0.032029    0.541838       0.515128   \n",
       "LightActiveDistance       0.015666    0.775562       0.744812   \n",
       "SedentaryActiveDistance  -0.019149    0.081965       0.080787   \n",
       "Calories                  0.290868    0.581380       0.613647   \n",
       "Total_minutes            -0.029175    0.041449       0.053311   \n",
       "Total_hours              -0.030675    0.042639       0.054483   \n",
       "\n",
       "                          TrackerDistance  LoggedActivitiesDistance  \\\n",
       "Id                               0.177983                  0.191242   \n",
       "TotalSteps                       0.982997                  0.146380   \n",
       "TotalDistance                    0.995122                  0.164312   \n",
       "TrackerDistance                  1.000000                  0.094890   \n",
       "LoggedActivitiesDistance         0.094890                  1.000000   \n",
       "VeryActiveDistance               0.789353                  0.154754   \n",
       "ModeratelyActiveDistance         0.516099                  0.060123   \n",
       "LightActiveDistance              0.737570                  0.115671   \n",
       "SedentaryActiveDistance          0.077461                  0.091091   \n",
       "Calories                         0.612066                  0.148740   \n",
       "Total_minutes                    0.049276                 -0.000918   \n",
       "Total_hours                      0.050529                 -0.000657   \n",
       "\n",
       "                          VeryActiveDistance  ModeratelyActiveDistance  \\\n",
       "Id                                  0.290048                  0.032029   \n",
       "TotalSteps                          0.733689                  0.541838   \n",
       "TotalDistance                       0.791778                  0.515128   \n",
       "TrackerDistance                     0.789353                  0.516099   \n",
       "LoggedActivitiesDistance            0.154754                  0.060123   \n",
       "VeryActiveDistance                  1.000000                  0.240440   \n",
       "ModeratelyActiveDistance            0.240440                  1.000000   \n",
       "LightActiveDistance                 0.264580                  0.326959   \n",
       "SedentaryActiveDistance             0.044666                  0.016350   \n",
       "Calories                            0.434133                  0.300781   \n",
       "Total_minutes                       0.076645                 -0.061373   \n",
       "Total_hours                         0.077098                 -0.062010   \n",
       "\n",
       "                          LightActiveDistance  SedentaryActiveDistance  \\\n",
       "Id                                   0.015666                -0.019149   \n",
       "TotalSteps                           0.775562                 0.081965   \n",
       "TotalDistance                        0.744812                 0.080787   \n",
       "TrackerDistance                      0.737570                 0.077461   \n",
       "LoggedActivitiesDistance             0.115671                 0.091091   \n",
       "VeryActiveDistance                   0.264580                 0.044666   \n",
       "ModeratelyActiveDistance             0.326959                 0.016350   \n",
       "LightActiveDistance                  1.000000                 0.069051   \n",
       "SedentaryActiveDistance              0.069051                 1.000000   \n",
       "Calories                             0.451239                 0.096874   \n",
       "Total_minutes                        0.003517                 0.093079   \n",
       "Total_hours                          0.005734                 0.092814   \n",
       "\n",
       "                          Calories  Total_minutes  Total_hours  \n",
       "Id                        0.290868      -0.029175    -0.030675  \n",
       "TotalSteps                0.581380       0.041449     0.042639  \n",
       "TotalDistance             0.613647       0.053311     0.054483  \n",
       "TrackerDistance           0.612066       0.049276     0.050529  \n",
       "LoggedActivitiesDistance  0.148740      -0.000918    -0.000657  \n",
       "VeryActiveDistance        0.434133       0.076645     0.077098  \n",
       "ModeratelyActiveDistance  0.300781      -0.061373    -0.062010  \n",
       "LightActiveDistance       0.451239       0.003517     0.005734  \n",
       "SedentaryActiveDistance   0.096874       0.093079     0.092814  \n",
       "Calories                  1.000000       0.251934     0.254466  \n",
       "Total_minutes             0.251934       1.000000     0.999205  \n",
       "Total_hours               0.254466       0.999205     1.000000  "
      ]
     },
     "execution_count": 17,
     "metadata": {},
     "output_type": "execute_result"
    }
   ],
   "source": [
    "#Applying correlation on our quantitative data\n",
    "df_corr = df.drop(['Date', 'DayOfWeek','VeryActiveMinutes','FairlyActiveMinutes','LightlyActiveMinutes','SedentaryMinutes'],axis=1)\n",
    "df_corr.corr()"
   ]
  },
  {
   "cell_type": "code",
   "execution_count": 18,
   "id": "c07c1782",
   "metadata": {
    "execution": {
     "iopub.execute_input": "2024-06-09T17:02:29.375882Z",
     "iopub.status.busy": "2024-06-09T17:02:29.375497Z",
     "iopub.status.idle": "2024-06-09T17:02:29.946244Z",
     "shell.execute_reply": "2024-06-09T17:02:29.944980Z"
    },
    "papermill": {
     "duration": 0.584349,
     "end_time": "2024-06-09T17:02:29.948384",
     "exception": false,
     "start_time": "2024-06-09T17:02:29.364035",
     "status": "completed"
    },
    "tags": []
   },
   "outputs": [
    {
     "data": {
      "text/plain": [
       "<Axes: >"
      ]
     },
     "execution_count": 18,
     "metadata": {},
     "output_type": "execute_result"
    },
    {
     "data": {
      "image/png": "[encoded data removed]",
      "text/plain": [
       "<Figure size 640x480 with 2 Axes>"
      ]
     },
     "metadata": {},
     "output_type": "display_data"
    }
   ],
   "source": [
    "sns.heatmap(df_corr.corr())"
   ]
  }
 ],
 "metadata": {
  "kaggle": {
   "accelerator": "none",
   "dataSources": [
    {
     "datasetId": 1041311,
     "sourceId": 7746251,
     "sourceType": "datasetVersion"
    }
   ],
   "dockerImageVersionId": 30698,
   "isGpuEnabled": false,
   "isInternetEnabled": false,
   "language": "python",
   "sourceType": "notebook"
  },
  "kernelspec": {
   "display_name": "Python 3",
   "language": "python",
   "name": "python3"
  },
  "language_info": {
   "codemirror_mode": {
    "name": "ipython",
    "version": 3
   },
   "file_extension": ".py",
   "mimetype": "text/x-python",
   "name": "python",
   "nbconvert_exporter": "python",
   "pygments_lexer": "ipython3",
   "version": "3.10.13"
  },
  "papermill": {
   "default_parameters": {},
   "duration": 8.468445,
   "end_time": "2024-06-09T17:02:30.582719",
   "environment_variables": {},
   "exception": null,
   "input_path": "__notebook__.ipynb",
   "output_path": "__notebook__.ipynb",
   "parameters": {},
   "start_time": "2024-06-09T17:02:22.114274",
   "version": "2.5.0"
  }
 },
 "nbformat": 4,
 "nbformat_minor": 5
}
